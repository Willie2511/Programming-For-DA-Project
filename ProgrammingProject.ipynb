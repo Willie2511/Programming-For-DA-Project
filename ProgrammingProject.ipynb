{
 "cells": [
  {
   "cell_type": "markdown",
   "metadata": {},
   "source": [
    "# Programming Project"
   ]
  },
  {
   "cell_type": "markdown",
   "metadata": {},
   "source": [
    "Choose a real-world phenomenon that can be measured and for which you could collect at least one-hundred data points across at least four different variables.\n",
    "• Investigate the types of variables involved, their likely distributions, and their relationships with each other.\n",
    "• Synthesise/simulate a data set as closely matching their properties as possible.\n",
    "• Detail your research and implement the simulation in a Jupyter notebook – the data set itself can simply be displayed in an output cell within the notebook.\n"
   ]
  },
  {
   "cell_type": "markdown",
   "metadata": {},
   "source": [
    "Having serious problems using terminal to push to github - cannot solve.\n",
    "Restart with new repo ?"
   ]
  },
  {
   "cell_type": "markdown",
   "metadata": {},
   "source": [
    "Potential data topics:\n",
    "\n",
    "Resting Heart Rate - physical exercise (hours per week) - weight - Age\n",
    "\n",
    "* Resting Heart Rate - Sleep Quality (hours per night) - BMI - Age \n",
    "\n",
    "Driving Distance (golf) - Clubhead speed - launch angle - spin rate\n",
    "\n",
    "Driving Distance - physical exercise (hours per week) - height - weight \n",
    "\n",
    "Body fat percentage - physical exercise (hours per week) - daily caloric intake - age\n",
    "\n",
    "Lower back pain - physical exercise (hours per week) - family history (yes or no, binomial dist)- Age\n",
    "\n",
    "* Sleep Quality (hours continous per night) - Hours screen time per day - physical exercise (hours per week) - Reading (time spent in minutes)\n",
    "\n",
    "* Heart Disease (y or n) - BMI - Age - Chol\n",
    "\n",
    "** Students motivation (measured by grade) - activity level (hours physical exercise per week) - Social media use (hours per Day) - Previous grade levels (percentage) \n"
   ]
  },
  {
   "cell_type": "markdown",
   "metadata": {},
   "source": [
    "Student grades can be taken as third level (1.1, 2.1, 2.2, 3.1, pass, fail) - can get the statistics needed online and base my array, data distribution, mean and standard deviation on it. \n",
    "\n",
    "Activity level - students who stay active are expected to be more motivated than those who do not. But does this result in higher grades. Hours per week include gym sessions, walks, runs, yoga, martial arts classes, sports etc.\n",
    "\n",
    "Social Media Use - Social media use, when not for work or study purposes, has been linked with high levels of anxiety and procrastination. Phones track the number of hours spent on each app per day. Large number of hours spent per day on social media apps generally mean higher levels of distraction, procrastination and lower levels of motivation.\n",
    "\n",
    "Previous Grade levels - A student who has a track record of high grade levels is expected to already have sufficient levels of motivation and good study habits. A student with high grades in the past is generally motivated to continue this academic success. However, students with previusly low grades can be motivated to improve their situation. \n"
   ]
  },
  {
   "cell_type": "code",
   "execution_count": 26,
   "metadata": {},
   "outputs": [],
   "source": [
    "import pandas as pd\n",
    "import matplotlib.pyplot as plt\n",
    "import numpy as np\n"
   ]
  },
  {
   "cell_type": "code",
   "execution_count": 6,
   "metadata": {},
   "outputs": [],
   "source": [
    "rng = pd.date_range('1/1/2003', periods=200, freq='M')"
   ]
  },
  {
   "cell_type": "code",
   "execution_count": 7,
   "metadata": {},
   "outputs": [
    {
     "data": {
      "text/plain": [
       "DatetimeIndex(['2003-01-31', '2003-02-28', '2003-03-31', '2003-04-30',\n",
       "               '2003-05-31', '2003-06-30', '2003-07-31', '2003-08-31',\n",
       "               '2003-09-30', '2003-10-31',\n",
       "               ...\n",
       "               '2018-11-30', '2018-12-31', '2019-01-31', '2019-02-28',\n",
       "               '2019-03-31', '2019-04-30', '2019-05-31', '2019-06-30',\n",
       "               '2019-07-31', '2019-08-31'],\n",
       "              dtype='datetime64[ns]', length=200, freq='M')"
      ]
     },
     "execution_count": 7,
     "metadata": {},
     "output_type": "execute_result"
    }
   ],
   "source": [
    "rng"
   ]
  },
  {
   "cell_type": "code",
   "execution_count": 8,
   "metadata": {},
   "outputs": [],
   "source": [
    "ts = pd.DataFrame(np.random.poisson(60, len(rng)), index=rng, columns=[\"Average Result\"])"
   ]
  },
  {
   "cell_type": "code",
   "execution_count": 9,
   "metadata": {},
   "outputs": [
    {
     "data": {
      "text/html": [
       "<div>\n",
       "<style scoped>\n",
       "    .dataframe tbody tr th:only-of-type {\n",
       "        vertical-align: middle;\n",
       "    }\n",
       "\n",
       "    .dataframe tbody tr th {\n",
       "        vertical-align: top;\n",
       "    }\n",
       "\n",
       "    .dataframe thead th {\n",
       "        text-align: right;\n",
       "    }\n",
       "</style>\n",
       "<table border=\"1\" class=\"dataframe\">\n",
       "  <thead>\n",
       "    <tr style=\"text-align: right;\">\n",
       "      <th></th>\n",
       "      <th>Average Result</th>\n",
       "    </tr>\n",
       "  </thead>\n",
       "  <tbody>\n",
       "    <tr>\n",
       "      <td>2003-01-31</td>\n",
       "      <td>66</td>\n",
       "    </tr>\n",
       "    <tr>\n",
       "      <td>2003-02-28</td>\n",
       "      <td>59</td>\n",
       "    </tr>\n",
       "    <tr>\n",
       "      <td>2003-03-31</td>\n",
       "      <td>48</td>\n",
       "    </tr>\n",
       "    <tr>\n",
       "      <td>2003-04-30</td>\n",
       "      <td>55</td>\n",
       "    </tr>\n",
       "    <tr>\n",
       "      <td>2003-05-31</td>\n",
       "      <td>52</td>\n",
       "    </tr>\n",
       "    <tr>\n",
       "      <td>...</td>\n",
       "      <td>...</td>\n",
       "    </tr>\n",
       "    <tr>\n",
       "      <td>2019-04-30</td>\n",
       "      <td>74</td>\n",
       "    </tr>\n",
       "    <tr>\n",
       "      <td>2019-05-31</td>\n",
       "      <td>75</td>\n",
       "    </tr>\n",
       "    <tr>\n",
       "      <td>2019-06-30</td>\n",
       "      <td>54</td>\n",
       "    </tr>\n",
       "    <tr>\n",
       "      <td>2019-07-31</td>\n",
       "      <td>73</td>\n",
       "    </tr>\n",
       "    <tr>\n",
       "      <td>2019-08-31</td>\n",
       "      <td>56</td>\n",
       "    </tr>\n",
       "  </tbody>\n",
       "</table>\n",
       "<p>200 rows × 1 columns</p>\n",
       "</div>"
      ],
      "text/plain": [
       "            Average Result\n",
       "2003-01-31              66\n",
       "2003-02-28              59\n",
       "2003-03-31              48\n",
       "2003-04-30              55\n",
       "2003-05-31              52\n",
       "...                    ...\n",
       "2019-04-30              74\n",
       "2019-05-31              75\n",
       "2019-06-30              54\n",
       "2019-07-31              73\n",
       "2019-08-31              56\n",
       "\n",
       "[200 rows x 1 columns]"
      ]
     },
     "execution_count": 9,
     "metadata": {},
     "output_type": "execute_result"
    }
   ],
   "source": [
    "ts"
   ]
  },
  {
   "cell_type": "code",
   "execution_count": 19,
   "metadata": {},
   "outputs": [],
   "source": [
    "columns = ['Student Grade', 'Activity Level', 'Social Media Use', 'Sex']"
   ]
  },
  {
   "cell_type": "code",
   "execution_count": 20,
   "metadata": {},
   "outputs": [],
   "source": [
    "df = pd.DataFrame(columns=columns)"
   ]
  },
  {
   "cell_type": "code",
   "execution_count": 32,
   "metadata": {},
   "outputs": [],
   "source": [
    "Grades = ['1.1', '2.1', '2.2', '3.1', 'pass', 'fail']\n",
    "Sex = ['Male', 'Female', 'Other', 'Prefer Not To Say']"
   ]
  },
  {
   "cell_type": "code",
   "execution_count": 39,
   "metadata": {},
   "outputs": [],
   "source": [
    "rng = pd.date_range('1/1/2003', periods=200, freq='M')"
   ]
  },
  {
   "cell_type": "code",
   "execution_count": 40,
   "metadata": {},
   "outputs": [
    {
     "name": "stdout",
     "output_type": "stream",
     "text": [
      "199\n"
     ]
    }
   ],
   "source": []
  },
  {
   "cell_type": "code",
   "execution_count": 44,
   "metadata": {},
   "outputs": [
    {
     "data": {
      "text/plain": [
       "array(['2.1', '2.1', '2.1', 'Fail', '2.2', '2.1', 'Fail', 'Pass', 'Pass',\n",
       "       '3.1'], dtype='<U4')"
      ]
     },
     "execution_count": 44,
     "metadata": {},
     "output_type": "execute_result"
    }
   ],
   "source": [
    "Grades = ('1.1', '2.1', '2.2', '3.1', 'Pass', 'Fail')\n",
    "x = np.random.choice(Grades, 10)\n",
    "x"
   ]
  },
  {
   "cell_type": "code",
   "execution_count": null,
   "metadata": {},
   "outputs": [],
   "source": []
  }
 ],
 "metadata": {
  "kernelspec": {
   "display_name": "Python 3",
   "language": "python",
   "name": "python3"
  },
  "language_info": {
   "codemirror_mode": {
    "name": "ipython",
    "version": 3
   },
   "file_extension": ".py",
   "mimetype": "text/x-python",
   "name": "python",
   "nbconvert_exporter": "python",
   "pygments_lexer": "ipython3",
   "version": "3.7.4"
  }
 },
 "nbformat": 4,
 "nbformat_minor": 2
}
